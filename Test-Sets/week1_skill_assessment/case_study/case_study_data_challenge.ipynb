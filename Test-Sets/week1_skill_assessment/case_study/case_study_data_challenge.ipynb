{
 "cells": [
  {
   "cell_type": "markdown",
   "metadata": {},
   "source": [
    "# Week 1 Skills Assessment - Case Study\n",
    "\n",
    "\n",
    "## Data Notes\n",
    "This data challenge crequies the use of two datasets (below). The accounts data reflects profile information about each app user (for an exercise logging app), and the exercise-log data represents events logged by the app user. This dataset reflects some of the event data that was collected when testing 2 different software versions of an app (app_version). This exercise is simply to get you aquainted with the first few steps of using data for information & decision making. You will answer a few questions using the data provided that you will import/\n",
    "    \n",
    "- accounts data: **user_accounts_data.csv**\n",
    "    - user_id: unique identifier for each customer\n",
    "    - churned: whether or not the customer account was considered churned at the time of this snapshot\n",
    "    - app_version: the version of the app presented to the user when logging exercises\n",
    "    - gender: user gender\n",
    "    - primary_device: which device type the user was logging exercise events with\n",
    "    - n_users_on_acct: how many \"profiless\" exist on the account (think Netflix)\n",
    "\n",
    "<br />\n",
    "\n",
    "- exercise logs: **user_exercise_log_data**\n",
    "    - user_id: unique identifier for each customer\n",
    "    - app_version: the version of the app presented to the user when logging exercises\n",
    "    - start_timestamp: timestamp when the exercise event logging began\n",
    "    - end_timestamp: timestamp when the exercise event logging concluded\n",
    "    - satisfaction_score: a composit score computed based on a few questions users respond to when they conclude the exercise log\n",
    "\n",
    "Both datasets for *this* part of the assessment can be found in the subdirectory: *case_study/data/*\n",
    "\n",
    "Start by running the *Imports* cells, and the rest is on you! Good luck!"
   ]
  },
  {
   "cell_type": "markdown",
   "metadata": {},
   "source": [
    "# Imports"
   ]
  },
  {
   "cell_type": "code",
   "execution_count": 1,
   "metadata": {},
   "outputs": [],
   "source": [
    "%load_ext autoreload"
   ]
  },
  {
   "cell_type": "code",
   "execution_count": 2,
   "metadata": {},
   "outputs": [],
   "source": [
    "%autoreload 2"
   ]
  },
  {
   "cell_type": "code",
   "execution_count": 3,
   "metadata": {},
   "outputs": [],
   "source": [
    "import pandas as pd # ensure v = 0.24 !pip install --upgrade pandas \n",
    "import numpy as np\n",
    "import datetime as dt"
   ]
  },
  {
   "cell_type": "code",
   "execution_count": 4,
   "metadata": {},
   "outputs": [],
   "source": [
    "import seaborn as sns\n",
    "import matplotlib.pyplot as plt\n",
    "from matplotlib.colors import Colormap,LinearSegmentedColormap\n",
    "from matplotlib.gridspec import GridSpec\n",
    "import matplotlib.patches as mpatches"
   ]
  },
  {
   "cell_type": "code",
   "execution_count": 5,
   "metadata": {},
   "outputs": [],
   "source": [
    "%%capture\n",
    "from tqdm import tqdm_notebook as tqdm\n",
    "tqdm().pandas()"
   ]
  },
  {
   "cell_type": "code",
   "execution_count": 6,
   "metadata": {},
   "outputs": [],
   "source": [
    "myColors = [\n",
    "     (88/255.,166/255.,24/255.)\n",
    "          ,(233/255.,131/255.,0/255.)\n",
    "          ,(0/255.,117/255.,191/255.)\n",
    "          ,(147/255.,38/255.,143/255.)\n",
    "         ]\n",
    "\n",
    "name = 'dexmap'\n",
    "cm = LinearSegmentedColormap.from_list(name, myColors, N=4)"
   ]
  },
  {
   "cell_type": "code",
   "execution_count": 7,
   "metadata": {},
   "outputs": [],
   "source": [
    "pd.set_option('display.max_rows', 100)\n",
    "pd.set_option('display.max_columns', 100)"
   ]
  },
  {
   "cell_type": "code",
   "execution_count": 8,
   "metadata": {},
   "outputs": [],
   "source": [
    "sns.set_style('darkgrid')"
   ]
  },
  {
   "cell_type": "code",
   "execution_count": 9,
   "metadata": {},
   "outputs": [],
   "source": [
    "sns.set_context('talk')"
   ]
  },
  {
   "cell_type": "markdown",
   "metadata": {},
   "source": [
    "# Data Import & Preprocessing\n",
    "\n",
    "Complete the following:\n",
    "- Import 'user_accounts_data.csv' as a pandas dataframe\n",
    "- Import 'user_exercise_logs_data.csv' as a pandas dataframe\n",
    "- Determine if any columns have nulls in either dataset\n",
    "- Create the following new columns:\n",
    "    - 'start_date': a date-column representing the date the exercise log was initiated\n",
    "    - 'end_date': a date-column representing the date the exercise log was completed"
   ]
  },
  {
   "cell_type": "code",
   "execution_count": null,
   "metadata": {},
   "outputs": [],
   "source": []
  },
  {
   "cell_type": "code",
   "execution_count": null,
   "metadata": {},
   "outputs": [],
   "source": []
  },
  {
   "cell_type": "code",
   "execution_count": null,
   "metadata": {},
   "outputs": [],
   "source": []
  },
  {
   "cell_type": "code",
   "execution_count": null,
   "metadata": {},
   "outputs": [],
   "source": []
  },
  {
   "cell_type": "markdown",
   "metadata": {},
   "source": [
    "# Basic Computations\n",
    "\n",
    "## Answer each of the following questions about account data, adding your answer under the question\n",
    "\n",
    "1. How many unique users are there?\n",
    "2. What proportion of users that are male vs female?\n",
    "3. What is the most common type of primary-device?\n",
    "4. What is the average number of users per account?\n",
    "5. Which gender, on average, adds more users to their account?\n",
    "6. Which app-version saw a greater proportion of users churned?\n",
    "\n",
    "\n",
    "## Answer each of the following questions about exercise-logs data, adding your answer under the question\n",
    "\n",
    "1. What percent of the users in this cohort had exercised events logged? \n",
    "2. What is the average satisfaction score?\n",
    "3. What is the average duration of an event log?\n",
    "4. Which app version had the longer average event duration?"
   ]
  },
  {
   "cell_type": "code",
   "execution_count": null,
   "metadata": {},
   "outputs": [],
   "source": []
  },
  {
   "cell_type": "code",
   "execution_count": null,
   "metadata": {},
   "outputs": [],
   "source": []
  },
  {
   "cell_type": "code",
   "execution_count": null,
   "metadata": {},
   "outputs": [],
   "source": []
  },
  {
   "cell_type": "code",
   "execution_count": null,
   "metadata": {},
   "outputs": [],
   "source": []
  },
  {
   "cell_type": "code",
   "execution_count": null,
   "metadata": {},
   "outputs": [],
   "source": []
  },
  {
   "cell_type": "code",
   "execution_count": null,
   "metadata": {},
   "outputs": [],
   "source": []
  },
  {
   "cell_type": "code",
   "execution_count": null,
   "metadata": {},
   "outputs": [],
   "source": []
  },
  {
   "cell_type": "markdown",
   "metadata": {
    "toc-hr-collapsed": false
   },
   "source": [
    "# Basic Plotting\n",
    "\n",
    "1. Plot the distribution of event log durations\n",
    "2. Create a `countplot` of unique exercise-logging events by gender\n",
    "3. Use of one seaborns categorical scatter plots (e.g. violin) looking at primary device type vs average event duration"
   ]
  },
  {
   "cell_type": "code",
   "execution_count": null,
   "metadata": {},
   "outputs": [],
   "source": []
  },
  {
   "cell_type": "code",
   "execution_count": null,
   "metadata": {},
   "outputs": [],
   "source": []
  },
  {
   "cell_type": "code",
   "execution_count": null,
   "metadata": {},
   "outputs": [],
   "source": []
  },
  {
   "cell_type": "markdown",
   "metadata": {},
   "source": [
    "# Challenge Questions\n",
    "\n",
    "**Easier-challenge questions**\n",
    "1. Create a bar plot of the average event duration by gender \n",
    "2. Add a \"hue\" to your plot from (2) to break it out further by primary device type\n",
    "3. What is the interquartile range of exercise log duration per primary device type?\n",
    "\n",
    "\n",
    "**Harder-challenge questions**\n",
    "4. Plot the distribution of event log durations broken out by gender (on the same plot or figure)\n",
    "5. Is there a statistical difference between males & females in terms of % churned?\n",
    "6. Are there any outlier exercise-log data? What makes them an outlier?\n",
    "7. Is there a correlational/statistical relationship between exercise-log duration and:\n",
    "    - satisfaction score?\n",
    "    - churn?"
   ]
  },
  {
   "cell_type": "code",
   "execution_count": null,
   "metadata": {},
   "outputs": [],
   "source": []
  },
  {
   "cell_type": "code",
   "execution_count": null,
   "metadata": {},
   "outputs": [],
   "source": []
  },
  {
   "cell_type": "code",
   "execution_count": null,
   "metadata": {},
   "outputs": [],
   "source": []
  }
 ],
 "metadata": {
  "kernelspec": {
   "display_name": "Python 3",
   "language": "python",
   "name": "python3"
  },
  "language_info": {
   "codemirror_mode": {
    "name": "ipython",
    "version": 3
   },
   "file_extension": ".py",
   "mimetype": "text/x-python",
   "name": "python",
   "nbconvert_exporter": "python",
   "pygments_lexer": "ipython3",
   "version": "3.6.6"
  },
  "nbTranslate": {
   "displayLangs": [
    "*"
   ],
   "hotkey": "alt-t",
   "langInMainMenu": true,
   "sourceLang": "en",
   "targetLang": "fr",
   "useGoogleTranslate": true
  },
  "toc": {
   "base_numbering": 1,
   "nav_menu": {},
   "number_sections": true,
   "sideBar": true,
   "skip_h1_title": false,
   "title_cell": "Table of Contents",
   "title_sidebar": "Contents",
   "toc_cell": false,
   "toc_position": {},
   "toc_section_display": true,
   "toc_window_display": false
  },
  "vscode": {
   "interpreter": {
    "hash": "70b38d7a306a849643e446cd70466270a13445e5987dfa1344ef2b127438fa4d"
   }
  }
 },
 "nbformat": 4,
 "nbformat_minor": 4
}
